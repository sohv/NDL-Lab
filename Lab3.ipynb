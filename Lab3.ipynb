{
 "cells": [
  {
   "cell_type": "markdown",
   "id": "aedc372e-8f9a-4300-bbbf-b4af52745828",
   "metadata": {},
   "source": [
    "# Perceptron Algorithm for AND gate"
   ]
  },
  {
   "cell_type": "code",
   "execution_count": 1,
   "id": "611b3c91-e389-4f28-9044-c080225dd34f",
   "metadata": {},
   "outputs": [],
   "source": [
    "# initialize weights and bias globally\n",
    "w1, w2, b = 0.5, 0.5, -1\n",
    "def activate(x):\n",
    "    return 1 if x>=0 else 0"
   ]
  },
  {
   "cell_type": "code",
   "execution_count": 2,
   "id": "da21b44f-d265-48ee-96c5-0b85c60836db",
   "metadata": {},
   "outputs": [],
   "source": [
    "def train(inputs, outputs, lr, epochs):\n",
    "    global w1, w2, b\n",
    "    for epoch in range(epochs):\n",
    "        total_error = 0\n",
    "        for i in range(len(inputs)):\n",
    "            A,B = inputs[i]\n",
    "            target_output = outputs[i]\n",
    "            output = activate(w1*A + w2*B + b)\n",
    "            error = target_output - output\n",
    "            w1+= lr*error*A\n",
    "            w2+= lr*error*B\n",
    "            b+= lr*error\n",
    "            total_error += abs(error)\n",
    "        if total_error == 0:\n",
    "            break"
   ]
  },
  {
   "cell_type": "code",
   "execution_count": 9,
   "id": "f8890ec8-5dc3-4f4f-94c9-c32a70386ca8",
   "metadata": {},
   "outputs": [],
   "source": [
    "# define inputs and desired outputs for AND gate\n",
    "inputs = [(0,0),(0,1),(1,0),(1,1)]\n",
    "desired_outputs = [0,0,0,1]\n",
    "lr = 0.1\n",
    "epochs = 100"
   ]
  },
  {
   "cell_type": "code",
   "execution_count": 10,
   "id": "9052e456-7cb5-4553-abdb-aac248656e9f",
   "metadata": {},
   "outputs": [
    {
     "name": "stdout",
     "output_type": "stream",
     "text": [
      "Input and Output for AND gate\n",
      "Input: (0, 0) Output: 0\n",
      "Input: (0, 1) Output: 0\n",
      "Input: (1, 0) Output: 0\n",
      "Input: (1, 1) Output: 1\n"
     ]
    }
   ],
   "source": [
    "train(inputs, desired_outputs, lr,epochs)\n",
    "print(\"Input and Output for AND gate\")\n",
    "for i in range(len(inputs)):\n",
    "    A,B = inputs[i]\n",
    "\n",
    "    output = activate(w1*A + w2*B +b)\n",
    "    print(f\"Input: ({A}, {B}) Output: {output}\")"
   ]
  },
  {
   "cell_type": "markdown",
   "id": "b3b5c0ac-8ac7-40ea-80d0-63228924f57f",
   "metadata": {},
   "source": [
    "# OR gate"
   ]
  },
  {
   "cell_type": "code",
   "execution_count": 11,
   "id": "7c16e020-4cef-4b3b-ba1f-53b95ed9fa82",
   "metadata": {},
   "outputs": [],
   "source": [
    "# define inputs and desired outputs for AND gate\n",
    "inputs_or = [(0,0),(0,1),(1,0),(1,1)]\n",
    "desired_outputs_or = [0,1,1,1]\n",
    "lr_or = 0.1\n",
    "epochs_or = 100"
   ]
  },
  {
   "cell_type": "code",
   "execution_count": 12,
   "id": "8eee2f40-5a45-4d2a-99db-a5ef288ba7a7",
   "metadata": {},
   "outputs": [
    {
     "name": "stdout",
     "output_type": "stream",
     "text": [
      "Input and Output for OR gate\n",
      "Input: (0, 0) Output: 0\n",
      "Input: (0, 1) Output: 1\n",
      "Input: (1, 0) Output: 1\n",
      "Input: (1, 1) Output: 1\n"
     ]
    }
   ],
   "source": [
    "train(inputs_or, desired_outputs_or, lr_or,epochs_or)\n",
    "print(\"Input and Output for OR gate\")\n",
    "for i in range(len(inputs)):\n",
    "    A,B = inputs[i]\n",
    "\n",
    "    output = activate(w1*A + w2*B +b)\n",
    "    print(f\"Input: ({A}, {B}) Output: {output}\")"
   ]
  },
  {
   "cell_type": "markdown",
   "id": "1f211b9e-4ba4-4c50-839f-7a109a2aaffa",
   "metadata": {},
   "source": [
    "# NAND gate"
   ]
  },
  {
   "cell_type": "code",
   "execution_count": 13,
   "id": "0a850a77-99c6-4976-8bdd-537d6ee0a29e",
   "metadata": {},
   "outputs": [],
   "source": [
    "# define inputs and desired outputs for NAND gate\n",
    "inputs_nand = [(0,0),(0,1),(1,0),(1,1)]\n",
    "desired_outputs_nand = [1,1,1,0]\n",
    "lr_nand = 0.1\n",
    "epochs_nand = 100"
   ]
  },
  {
   "cell_type": "code",
   "execution_count": 14,
   "id": "85335878-7166-4130-b649-ffc1c6a9eca4",
   "metadata": {},
   "outputs": [
    {
     "name": "stdout",
     "output_type": "stream",
     "text": [
      "Input and Output for NAND gate\n",
      "Input: (0, 0) Output: 1\n",
      "Input: (0, 1) Output: 1\n",
      "Input: (1, 0) Output: 1\n",
      "Input: (1, 1) Output: 0\n"
     ]
    }
   ],
   "source": [
    "train(inputs_nand, desired_outputs_nand, lr_nand,epochs_nand)\n",
    "print(\"Input and Output for NAND gate\")\n",
    "for i in range(len(inputs)):\n",
    "    A,B = inputs[i]\n",
    "\n",
    "    output = activate(w1*A + w2*B +b)\n",
    "    print(f\"Input: ({A}, {B}) Output: {output}\")"
   ]
  },
  {
   "cell_type": "markdown",
   "id": "62d9117c-e1d9-4db2-9aab-5acca4faa254",
   "metadata": {},
   "source": [
    "# NOR gate"
   ]
  },
  {
   "cell_type": "code",
   "execution_count": 17,
   "id": "072a46a0-0195-4a41-b9f9-375a98da78a1",
   "metadata": {},
   "outputs": [],
   "source": [
    "# define inputs and desired outputs for NAND gate\n",
    "inputs_nor = [(0,0),(0,1),(1,0),(1,1)]\n",
    "desired_outputs_nor = [1,0,0,0]\n",
    "lr_nor = 0.1\n",
    "epochs_nor = 100"
   ]
  },
  {
   "cell_type": "code",
   "execution_count": 18,
   "id": "b28b24fa-a1b5-4cbf-819e-93dc73943e09",
   "metadata": {},
   "outputs": [
    {
     "name": "stdout",
     "output_type": "stream",
     "text": [
      "Input and Output for NOR gate\n",
      "Input: (0, 0) Output: 1\n",
      "Input: (0, 1) Output: 0\n",
      "Input: (1, 0) Output: 0\n",
      "Input: (1, 1) Output: 0\n"
     ]
    }
   ],
   "source": [
    "train(inputs_nor, desired_outputs_nor, lr_nor,epochs_nor)\n",
    "print(\"Input and Output for NOR gate\")\n",
    "for i in range(len(inputs)):\n",
    "    A,B = inputs[i]\n",
    "\n",
    "    output = activate(w1*A + w2*B +b)\n",
    "    print(f\"Input: ({A}, {B}) Output: {output}\")"
   ]
  },
  {
   "cell_type": "markdown",
   "id": "983a03f7-0996-4d94-982f-8e92f5e48aec",
   "metadata": {},
   "source": [
    "# XOR gate"
   ]
  },
  {
   "cell_type": "markdown",
   "id": "6ff8275c-959b-4fe4-af97-e53ad8271742",
   "metadata": {},
   "source": [
    "The output above doesn't match with the expected outputs as a single-layer perceptron cannot solve the XOR problem. The XOR function is not linearly separable, which means a simple perceptron (a single-layer neural network) cannot find a linear decision boundary that separates the two classes."
   ]
  },
  {
   "cell_type": "code",
   "execution_count": 5,
   "id": "9b869793",
   "metadata": {},
   "outputs": [
    {
     "data": {
      "image/png": "[encoded data removed]",
      "text/plain": [
       "<Figure size 800x500 with 1 Axes>"
      ]
     },
     "metadata": {},
     "output_type": "display_data"
    }
   ],
   "source": [
    "import numpy as np\n",
    "import matplotlib.pyplot as plt\n",
    "\n",
    "def sigmoid(x):\n",
    "    return 1 / (1 + np.exp(-x))\n",
    "\n",
    "def sigmoid_derivative(x):\n",
    "    return x * (1 - x)\n",
    "\n",
    "X = np.array([[0, 0], [0, 1], [1, 0], [1, 1]])\n",
    "y = np.array([[0], [1], [1], [0]]) \n",
    "\n",
    "input_size, hidden_size, output_size = 2, 2, 1\n",
    "epochs = 10000\n",
    "learning_rates = [0.1, 0.5, 1.0]  # different learning rates\n",
    "\n",
    "plt.figure(figsize=(8, 5))\n",
    "\n",
    "for lr in learning_rates:\n",
    "    w1 = np.random.randn(input_size, hidden_size)\n",
    "    w2 = np.random.randn(hidden_size, output_size)\n",
    "    b1 = np.zeros((1, hidden_size))\n",
    "    b2 = np.zeros((1, output_size))\n",
    "\n",
    "    errors = []\n",
    "\n",
    "    for epoch in range(epochs):\n",
    "        hidden_input = np.dot(X, w1) + b1\n",
    "        hidden_output = sigmoid(hidden_input)\n",
    "        final_input = np.dot(hidden_output, w2) + b2\n",
    "        final_output = sigmoid(final_input)\n",
    "\n",
    "        # compute error\n",
    "        error = y - final_output\n",
    "        errors.append(np.mean(np.abs(error)))\n",
    "\n",
    "        # backpropagation\n",
    "        d_output = error * sigmoid_derivative(final_output)\n",
    "        d_hidden = d_output.dot(w2.T) * sigmoid_derivative(hidden_output)\n",
    "\n",
    "        # update weights and biases\n",
    "        w2 += hidden_output.T.dot(d_output) * lr\n",
    "        b2 += np.sum(d_output, axis=0, keepdims=True) * lr\n",
    "        w1 += X.T.dot(d_hidden) * lr\n",
    "        b1 += np.sum(d_hidden, axis=0, keepdims=True) * lr\n",
    "\n",
    "    plt.plot(errors, label=f\"LR = {lr}\")\n",
    "\n",
    "plt.xlabel(\"Epochs\")\n",
    "plt.ylabel(\"Mean Absolute Error\")\n",
    "plt.title(\"Error Propagation for XOR with Different Learning Rates\")\n",
    "plt.legend()\n",
    "plt.show()"
   ]
  },
  {
   "cell_type": "code",
   "execution_count": null,
   "id": "f6a0da57",
   "metadata": {},
   "outputs": [],
   "source": []
  }
 ],
 "metadata": {
  "kernelspec": {
   "display_name": "base",
   "language": "python",
   "name": "python3"
  },
  "language_info": {
   "codemirror_mode": {
    "name": "ipython",
    "version": 3
   },
   "file_extension": ".py",
   "mimetype": "text/x-python",
   "name": "python",
   "nbconvert_exporter": "python",
   "pygments_lexer": "ipython3",
   "version": "3.12.4"
  }
 },
 "nbformat": 4,
 "nbformat_minor": 5
}
