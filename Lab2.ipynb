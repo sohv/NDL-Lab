{
 "cells": [
  {
   "cell_type": "markdown",
   "id": "614530b1-1edd-4ee6-b92d-716033aa3c08",
   "metadata": {},
   "source": [
    "# Hebbian Learning Algorithm"
   ]
  },
  {
   "cell_type": "code",
   "execution_count": 1,
   "id": "78d3e0dd-2879-4196-a960-36abb51fec09",
   "metadata": {},
   "outputs": [],
   "source": [
    "import numpy as np"
   ]
  },
  {
   "cell_type": "code",
   "execution_count": 2,
   "id": "a961d8f2-2f4b-4ba8-bfd2-38319548cf2d",
   "metadata": {},
   "outputs": [
    {
     "name": "stdout",
     "output_type": "stream",
     "text": [
      "Learned weights :  [1.11599442e+16 6.69596652e+15 4.46397768e+15]\n"
     ]
    }
   ],
   "source": [
    "class Neuron:\n",
    "    def __init__(self, num_inputs):\n",
    "        self.weights = np.random.rand(num_inputs)\n",
    "\n",
    "    def activate(self, inputs):\n",
    "        weighted_sum = np.dot(inputs, self.weights)\n",
    "        return weighted_sum\n",
    "\n",
    "    def hebbian(self, inputs, lr):\n",
    "        activation = self.activate(inputs)\n",
    "        self.weights+= lr*activation*inputs\n",
    "\n",
    "if __name__ == \"__main__\":\n",
    "    num = 3\n",
    "    neuron = Neuron(num)\n",
    "    inputs = np.array([0.5,0.3,0.2])\n",
    "    lr = 0.1\n",
    "    iterations = 1000\n",
    "    for i in range(iterations):\n",
    "        neuron.hebbian(inputs, lr)\n",
    "    print(\"Learned weights : \", neuron.weights)"
   ]
  }
 ],
 "metadata": {
  "kernelspec": {
   "display_name": "Python 3 (ipykernel)",
   "language": "python",
   "name": "python3"
  },
  "language_info": {
   "codemirror_mode": {
    "name": "ipython",
    "version": 3
   },
   "file_extension": ".py",
   "mimetype": "text/x-python",
   "name": "python",
   "nbconvert_exporter": "python",
   "pygments_lexer": "ipython3",
   "version": "3.12.4"
  }
 },
 "nbformat": 4,
 "nbformat_minor": 5
}
