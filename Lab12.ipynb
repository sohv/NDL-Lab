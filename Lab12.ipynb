{
 "cells": [
  {
   "cell_type": "markdown",
   "id": "fa523f47",
   "metadata": {},
   "source": [
    "# Single Forward step of RNN cell"
   ]
  },
  {
   "cell_type": "code",
   "execution_count": 6,
   "id": "a86a74ff",
   "metadata": {},
   "outputs": [
    {
     "name": "stdout",
     "output_type": "stream",
     "text": [
      "Next Hidden state: \n",
      " [[-0.109558  0.049958  0.124353]]\n"
     ]
    }
   ],
   "source": [
    "import numpy as np\n",
    "\n",
    "# RNN cell forward\n",
    "def rnn_step(x, h_prev, Wx, Wh, b):\n",
    "    return np.tanh(x @ Wx + h_prev @ Wh + b)\n",
    "\n",
    "x = np.array([[0.2, -0.1, 0.4]])       \n",
    "h_prev = np.array([[0.05, 0.1, -0.2]])\n",
    "Wx = np.array([[0.1, -0.2, 0.3],\n",
    "               [0.4,  0.0, -0.1],\n",
    "               [-0.3, 0.2, 0.5]])      \n",
    "Wh = np.array([[0.2, -0.4, 0.1],\n",
    "               [0.0,  0.3, -0.2],\n",
    "               [-0.1, 0.5, 0.4]])     \n",
    "b = np.array([[0.0, 0.1, -0.05]])  \n",
    "\n",
    "# compute next hidden state\n",
    "h_next = rnn_step(x, h_prev, Wx, Wh, b)\n",
    "print(\"Next Hidden state: \\n\",np.round(h_next, 6))"
   ]
  },
  {
   "cell_type": "markdown",
   "id": "28e01f14",
   "metadata": {},
   "source": [
    "## Forward Propagation in RNN"
   ]
  },
  {
   "cell_type": "code",
   "execution_count": null,
   "id": "e48ecdd1",
   "metadata": {},
   "outputs": [
    {
     "name": "stdout",
     "output_type": "stream",
     "text": [
      "[[[-0.139092  0.139092  0.216518]]\n",
      "\n",
      " [[ 0.129793  0.259548 -0.134304]]\n",
      "\n",
      " [[-0.254867  0.137911  0.175512]]]\n"
     ]
    }
   ],
   "source": [
    "import numpy as np\n",
    "\n",
    "def rnn_forward(xs, h0, Wx, Wh, b):\n",
    "    h = h0\n",
    "    hs = []\n",
    "    for x in xs:\n",
    "        h = np.tanh(x @ Wx + h @ Wh + b)\n",
    "        hs.append(h)\n",
    "    return np.array(hs)\n",
    "\n",
    "xs = np.array([[0.2, -0.1, 0.4],\n",
    "               [0.0,  0.3, -0.2],\n",
    "               [0.1, -0.4, 0.5]])  # (seq_len=3, input_size=3)\n",
    "\n",
    "h0 = np.zeros((1, 3))  # (1, hidden_size=3)\n",
    "\n",
    "Wx = np.array([[0.1, -0.2, 0.3],\n",
    "               [0.4,  0.0, -0.1],\n",
    "               [-0.3, 0.2, 0.5]])  # (3, 3)\n",
    "\n",
    "Wh = np.array([[0.2, -0.4, 0.1],\n",
    "               [0.0,  0.3, -0.2],\n",
    "               [-0.1, 0.5, 0.4]])  # (3, 3)\n",
    "\n",
    "b = np.array([[0.0, 0.1, -0.05]])  # (1, 3)\n",
    "\n",
    "hs = rnn_forward(xs, h0, Wx, Wh, b)\n",
    "print(np.round(hs, 6))"
   ]
  },
  {
   "cell_type": "markdown",
   "id": "c1452743",
   "metadata": {},
   "source": [
    "## LSTM cell"
   ]
  },
  {
   "cell_type": "code",
   "execution_count": null,
   "id": "ebc3132f",
   "metadata": {},
   "outputs": [
    {
     "name": "stdout",
     "output_type": "stream",
     "text": [
      "Next hidden state:\n",
      " [[ 0.004263  0.205317 -0.584533]]\n",
      "Next cell state:\n",
      " [[ 0.07158   0.227186 -0.731632]]\n"
     ]
    }
   ],
   "source": [
    "import numpy as np\n",
    "\n",
    "def lstm_step(x, h_prev, c_prev, W, b):\n",
    "    z = np.dot(np.hstack([x, h_prev]), W) + b\n",
    "    i, f, o, g = np.split(z, 4, axis=1)\n",
    "    i, f, o = map(lambda a: 1 / (1 + np.exp(-a)), [i, f, o])\n",
    "    g = np.tanh(g)\n",
    "    c = f * c_prev + i * g\n",
    "    h = o * np.tanh(c)\n",
    "    return h, c\n",
    "\n",
    "input_size = hidden_size = 3\n",
    "\n",
    "x = np.random.randn(1, input_size)\n",
    "h_prev = np.zeros((1, hidden_size))\n",
    "c_prev = np.zeros((1, hidden_size))\n",
    "\n",
    "# weight and bias\n",
    "W = np.random.randn(input_size + hidden_size, 4 * hidden_size) \n",
    "b = np.random.randn(1, 4 * hidden_size)                        \n",
    "\n",
    "# LSTM forward step\n",
    "h_next, c_next = lstm_step(x, h_prev, c_prev, W, b)\n",
    "print(\"Next hidden state:\\n\", np.round(h_next, 6))\n",
    "print(\"Next cell state:\\n\", np.round(c_next, 6))"
   ]
  },
  {
   "cell_type": "code",
   "execution_count": null,
   "id": "1d4845d2",
   "metadata": {},
   "outputs": [],
   "source": []
  }
 ],
 "metadata": {
  "kernelspec": {
   "display_name": "base",
   "language": "python",
   "name": "python3"
  },
  "language_info": {
   "codemirror_mode": {
    "name": "ipython",
    "version": 3
   },
   "file_extension": ".py",
   "mimetype": "text/x-python",
   "name": "python",
   "nbconvert_exporter": "python",
   "pygments_lexer": "ipython3",
   "version": "3.12.4"
  }
 },
 "nbformat": 4,
 "nbformat_minor": 5
}
