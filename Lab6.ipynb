{
 "cells": [
  {
   "cell_type": "markdown",
   "metadata": {},
   "source": [
    "# Self-Organizing Map"
   ]
  },
  {
   "cell_type": "code",
   "execution_count": 2,
   "metadata": {},
   "outputs": [
    {
     "data": {
      "image/png": "[encoded data removed]",
      "text/plain": [
       "<Figure size 640x480 with 1 Axes>"
      ]
     },
     "metadata": {},
     "output_type": "display_data"
    }
   ],
   "source": [
    "import numpy as np\n",
    "import matplotlib.pyplot as plt\n",
    "\n",
    "class SelfOrganizingMap:\n",
    "    def __init__(self, input_dim, grid_size, learning_rate=0.1, radius=None, epochs=1000):\n",
    "        self.input_dim = input_dim\n",
    "        self.grid_size = grid_size\n",
    "        self.learning_rate = learning_rate\n",
    "        self.epochs = epochs\n",
    "        self.radius = radius if radius else max(grid_size) / 2\n",
    "        self.weights = np.random.rand(grid_size[0], grid_size[1], input_dim)\n",
    "\n",
    "    def find_bmu(self, sample):\n",
    "        \"\"\"Find the Best Matching Unit (BMU) for a given sample.\"\"\"\n",
    "        distances = np.linalg.norm(self.weights - sample, axis=2)\n",
    "        return np.unravel_index(np.argmin(distances), distances.shape)\n",
    "\n",
    "    def update_weights(self, sample, bmu, iteration):\n",
    "        \"\"\"Update weights of the SOM based on competitive learning.\"\"\"\n",
    "        for i in range(self.grid_size[0]):\n",
    "            for j in range(self.grid_size[1]):\n",
    "                dist_to_bmu = np.linalg.norm(np.array([i, j]) - np.array(bmu))\n",
    "                if dist_to_bmu <= self.radius:\n",
    "                    influence = np.exp(-dist_to_bmu**2 / (2 * (self.radius**2)))\n",
    "                    self.weights[i, j] += self.learning_rate * influence * (sample - self.weights[i, j])\n",
    "\n",
    "    def train(self, data):\n",
    "        \"\"\"Train the SOM using competitive learning.\"\"\"\n",
    "        for epoch in range(self.epochs):\n",
    "            for sample in data:\n",
    "                bmu = self.find_bmu(sample)\n",
    "                self.update_weights(sample, bmu, epoch)\n",
    "            self.learning_rate *= 0.995\n",
    "            self.radius *= 0.995\n",
    "\n",
    "    def visualize(self):\n",
    "        \"\"\"Visualize the trained SOM weight map.\"\"\"\n",
    "        plt.imshow(self.weights.reshape(self.grid_size[0], self.grid_size[1], self.input_dim))\n",
    "        plt.title(\"Self-Organizing Map\")\n",
    "        plt.show()\n",
    "\n",
    "if __name__ == \"__main__\":\n",
    "    data = np.random.rand(100, 3) \n",
    "    som = SelfOrganizingMap(input_dim=3, grid_size=(10, 10))\n",
    "    som.train(data)\n",
    "    som.visualize()"
   ]
  },
  {
   "cell_type": "markdown",
   "metadata": {},
   "source": [
    "# Backpropagation through Time for Recurrent Networks"
   ]
  },
  {
   "cell_type": "code",
   "execution_count": 2,
   "metadata": {},
   "outputs": [
    {
     "name": "stdout",
     "output_type": "stream",
     "text": [
      "Epoch 0, Loss: 28.0617\n",
      "Epoch 10, Loss: 25.4173\n",
      "Epoch 20, Loss: 25.4168\n",
      "Epoch 30, Loss: 25.4163\n",
      "Epoch 40, Loss: 25.4157\n"
     ]
    }
   ],
   "source": [
    "import numpy as np\n",
    "\n",
    "def sig(x):\n",
    "    return 1 / (1 + np.exp(-x))\n",
    "\n",
    "def sig_deriv(x):\n",
    "    return x * (1 - x)\n",
    "\n",
    "class RNN:\n",
    "    def __init__(self, in_size, hid_size, out_size, lr=0.1):\n",
    "        self.in_size = in_size\n",
    "        self.hid_size = hid_size\n",
    "        self.out_size = out_size\n",
    "        self.lr = lr\n",
    "        \n",
    "        self.w_ih = np.random.rand(in_size, hid_size)\n",
    "        self.w_ho = np.random.rand(hid_size, out_size)\n",
    "        self.w_hh = np.random.rand(hid_size, hid_size)\n",
    "        \n",
    "    def train(self, X, y, epochs=50):\n",
    "        h = np.zeros((1, self.hid_size))\n",
    "        \n",
    "        for e in range(epochs):\n",
    "            loss = 0\n",
    "            \n",
    "            for i in range(len(X)):\n",
    "                h_in = np.dot(X[i], self.w_ih) + np.dot(h, self.w_hh)\n",
    "                h = sig(h_in)\n",
    "                out = sig(np.dot(h, self.w_ho))\n",
    "                \n",
    "                err = y[i] - out\n",
    "                loss += np.mean(np.abs(err))\n",
    "                \n",
    "                d_out = err * sig_deriv(out)\n",
    "                d_h = d_out.dot(self.w_ho.T) * sig_deriv(h)\n",
    "                \n",
    "                self.w_ho += h.T.dot(d_out) * self.lr\n",
    "                self.w_ih += X[i].reshape(-1, 1).dot(d_h) * self.lr\n",
    "                self.w_hh += h.T.dot(d_h) * self.lr\n",
    "            \n",
    "            if e % 10 == 0:\n",
    "                print(f\"Epoch {e}, Loss: {loss:.4f}\")\n",
    "\n",
    "if __name__ == \"__main__\":\n",
    "    np.random.seed(42)\n",
    "    X = np.random.rand(100, 2)\n",
    "    y = np.random.rand(100, 1)\n",
    "    \n",
    "    rnn = RNN(in_size=2, hid_size=4, out_size=1)\n",
    "    rnn.train(X, y, epochs=50)"
   ]
  },
  {
   "cell_type": "markdown",
   "metadata": {},
   "source": [
    "## Backpropagation every 1000 epochs"
   ]
  },
  {
   "cell_type": "code",
   "execution_count": 1,
   "metadata": {},
   "outputs": [
    {
     "name": "stdout",
     "output_type": "stream",
     "text": [
      "Epoch 0, Error: 0.5154392508492269\n",
      "Epoch 1000, Error: 0.15548336939029062\n",
      "Epoch 2000, Error: 0.053512507822233046\n",
      "Epoch 3000, Error: 0.035078929780386736\n",
      "Epoch 4000, Error: 0.027269246501255284\n",
      "Training complete!\n"
     ]
    }
   ],
   "source": [
    "import numpy as np\n",
    "\n",
    "def sigmoid(x):\n",
    "    return 1 / (1 + np.exp(-x))\n",
    "\n",
    "def dsigmoid(x):\n",
    "    return x * (1 - x)\n",
    "\n",
    "X = np.array([[0, 1], [1, 0], [1, 1]]) \n",
    "Y = np.array([[1], [0], [1]])  \n",
    "\n",
    "np.random.seed(42)\n",
    "input_size, hidden_size, output_size = 2, 4, 1\n",
    "W_xh = np.random.randn(input_size, hidden_size) * 0.1 \n",
    "W_hh = np.random.randn(hidden_size, hidden_size) * 0.1  \n",
    "W_hy = np.random.randn(hidden_size, output_size) * 0.1  \n",
    "\n",
    "# hyperparameters\n",
    "lr = 0.1\n",
    "epochs = 5000\n",
    "\n",
    "for epoch in range(epochs):\n",
    "    h_prev = np.zeros((1, hidden_size))\n",
    "\n",
    "    for t in range(len(X)):\n",
    "        h = sigmoid(np.dot(X[t], W_xh) + np.dot(h_prev, W_hh))\n",
    "        y_pred = sigmoid(np.dot(h, W_hy))\n",
    "\n",
    "        # error\n",
    "        error = Y[t] - y_pred\n",
    "\n",
    "        d_y = error * dsigmoid(y_pred)  \n",
    "        d_h = np.dot(d_y, W_hy.T) * dsigmoid(h)\n",
    "\n",
    "        # update weights\n",
    "        W_hy += lr * np.dot(h.T.reshape(hidden_size, 1), d_y.reshape(1, output_size))\n",
    "        W_xh += lr * np.dot(X[t].reshape(input_size, 1), d_h)\n",
    "        W_hh += lr * np.dot(h_prev.T.reshape(hidden_size, 1), d_h)\n",
    "\n",
    "        h_prev = h  # update hidden state for next time step\n",
    "\n",
    "    # error every 1000 epochs\n",
    "    if epoch % 1000 == 0:\n",
    "        print(f\"Epoch {epoch}, Error: {np.mean(np.abs(error))}\")\n",
    "\n",
    "print(\"Training complete!\")"
   ]
  },
  {
   "cell_type": "code",
   "execution_count": null,
   "metadata": {},
   "outputs": [],
   "source": []
  }
 ],
 "metadata": {
  "kernelspec": {
   "display_name": "base",
   "language": "python",
   "name": "python3"
  },
  "language_info": {
   "codemirror_mode": {
    "name": "ipython",
    "version": 3
   },
   "file_extension": ".py",
   "mimetype": "text/x-python",
   "name": "python",
   "nbconvert_exporter": "python",
   "pygments_lexer": "ipython3",
   "version": "3.12.4"
  }
 },
 "nbformat": 4,
 "nbformat_minor": 2
}
