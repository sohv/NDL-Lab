{
  "cells": [
    {
      "cell_type": "code",
      "execution_count": 1,
      "id": "3f226ce8-bf51-4820-8659-c6b1b872859e",
      "metadata": {
        "id": "3f226ce8-bf51-4820-8659-c6b1b872859e"
      },
      "outputs": [],
      "source": [
        "import numpy as np\n",
        "import matplotlib.pyplot as plt"
      ]
    },
    {
      "cell_type": "code",
      "execution_count": 2,
      "id": "40641fe5-2c51-435d-bc3d-8e6c5287f883",
      "metadata": {
        "colab": {
          "base_uri": "https://localhost:8080/"
        },
        "id": "40641fe5-2c51-435d-bc3d-8e6c5287f883",
        "outputId": "37303d67-57ff-48c3-c541-ae5a082c5404"
      },
      "outputs": [
        {
          "output_type": "stream",
          "name": "stdout",
          "text": [
            "Inputs\t\tFirst Function\tSecond Function\n",
            "[0 0]\t0.1353\t\t1.0000\n",
            "[0 1]\t0.3679\t\t0.3679\n",
            "[1 0]\t0.3679\t\t0.3679\n",
            "[1 1]\t1.0000\t\t0.1353\n"
          ]
        }
      ],
      "source": [
        "inputs = np.array([[0, 0], [0, 1], [1, 0], [1, 1]])\n",
        "outputs = np.array([0, 1, 1, 0])\n",
        "\n",
        "def gaussian(vector, weights):\n",
        "    return np.exp(-np.linalg.norm((vector - weights))**2)\n",
        "\n",
        "w1 = np.array([1, 1])\n",
        "w2 = np.array([0, 0])\n",
        "f1, f2 = [], []\n",
        "\n",
        "print(\"Inputs\\t\\tFirst Function\\tSecond Function\")\n",
        "for i in inputs:\n",
        "    v1, v2 = gaussian(i, w1), gaussian(i, w2)\n",
        "    f1.append(v1)\n",
        "    f2.append(v2)\n",
        "    print(f\"{i}\\t{v1:.4f}\\t\\t{v2:.4f}\")"
      ]
    },
    {
      "cell_type": "code",
      "execution_count": 6,
      "id": "93e2ea7f-1195-4bc3-9b5b-c1ba23a09d6e",
      "metadata": {
        "colab": {
          "base_uri": "https://localhost:8080/",
          "height": 388
        },
        "id": "93e2ea7f-1195-4bc3-9b5b-c1ba23a09d6e",
        "outputId": "93299e78-e4d6-4393-b872-54b7ee919313"
      },
      "outputs": [
        {
          "output_type": "display_data",
          "data": {
            "text/plain": [
              "<Figure size 400x400 with 1 Axes>"
            ],
            "image/png": "[encoded data removed]"
          },
          "metadata": {}
        }
      ],
      "source": [
        "fig ,ax=plt.subplots(figsize=(4,4))\n",
        "ax.scatter(f1, f2, marker='x')\n",
        "ax.scatter(f1, f2, marker='o')\n",
        "plt.xlabel(\"hidden function 1\");plt.ylabel(\"Hideen funcion 1\")\n",
        "x=np.linspace(0,1,10)\n",
        "y=-x+1\n",
        "ax.plot(x,y,label=\"y=-x+0.8\")\n",
        "ax.set_xlim(left=-0.1);ax.set_ylim(bottom=-0.1)\n",
        "plt.show()\n",
        "y=-x+1\n",
        "ax.plot(x,y,label=\"y=-x+0.8\")\n",
        "ax.set_xlim(left=-0.1);ax.set_ylim(bottom=-0.1)\n",
        "plt.show()\n",
        "y=-x+1\n",
        "ax.plot(x,y,label=\"y=-x+0.8\")\n",
        "ax.set_xlim(left=-0.1);ax.set_ylim(bottom=-0.1)\n",
        "plt.show()\n",
        "y=-x+1\n",
        "ax.plot(x,y,label=\"y=-x+0.8\")\n",
        "ax.set_xlim(left=-0.1),ax.set_ylim(bottom=-0.1)\n",
        "plt.show()"
      ]
    },
    {
      "cell_type": "code",
      "source": [],
      "metadata": {
        "id": "TJWvClk-FKU4"
      },
      "id": "TJWvClk-FKU4",
      "execution_count": null,
      "outputs": []
    }
  ],
  "metadata": {
    "kernelspec": {
      "display_name": "Python [conda env:base] *",
      "language": "python",
      "name": "conda-base-py"
    },
    "language_info": {
      "codemirror_mode": {
        "name": "ipython",
        "version": 3
      },
      "file_extension": ".py",
      "mimetype": "text/x-python",
      "name": "python",
      "nbconvert_exporter": "python",
      "pygments_lexer": "ipython3",
      "version": "3.12.7"
    },
    "colab": {
      "provenance": []
    }
  },
  "nbformat": 4,
  "nbformat_minor": 5
}