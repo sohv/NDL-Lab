{
 "cells": [
  {
   "cell_type": "markdown",
   "id": "e291b6ce-1f29-445d-9594-f9badacf3f22",
   "metadata": {},
   "source": [
    "# Error Learning Algorithm"
   ]
  },
  {
   "cell_type": "code",
   "execution_count": 1,
   "id": "0a681825-f09d-4c48-abe5-c04c75037bb4",
   "metadata": {},
   "outputs": [],
   "source": [
    "import numpy as np"
   ]
  },
  {
   "cell_type": "code",
   "execution_count": 3,
   "id": "68566048-7f2d-4efc-a369-d63fd5170e3c",
   "metadata": {},
   "outputs": [],
   "source": [
    "class Neuron:\n",
    "    def __init__(self, num_inputs):\n",
    "        self.weights = np.random.rand(num_inputs)\n",
    "        self.bias = np.random.rand()\n",
    "\n",
    "    def activate(self, inputs):\n",
    "        weighted_sum = np.dot(inputs, self.weights) + self.bias\n",
    "        activation = self.sigmoid(weighted_sum)\n",
    "        return activation\n",
    "\n",
    "    def sigmoid(self, x):\n",
    "        return 1/(1+np.exp(-x))\n",
    "    def train(self, inputs, target_output, learning_rate):\n",
    "        actual_output = self.activate(inputs)\n",
    "        error = target_output - actual_output\n",
    "        self.weights += learning_rate * error * inputs\n",
    "        self.bias += learning_rate*error"
   ]
  },
  {
   "cell_type": "code",
   "execution_count": 13,
   "id": "f1a03876-b2ed-4d8b-bea3-a0a8bfcaeb53",
   "metadata": {},
   "outputs": [
    {
     "name": "stdout",
     "output_type": "stream",
     "text": [
      "Input : [0 0 1] Output:  0.01844686014662725\n",
      "Input : [1 1 1] Output:  0.9999987303679095\n",
      "Input : [1 0 1] Output:  0.9917017955123029\n",
      "Input : [0 1 1] Output:  0.9919910693537296\n"
     ]
    }
   ],
   "source": [
    "if __name__ ==\"__main__\":\n",
    "    num_inputs = 3\n",
    "    neuron = Neuron(num_inputs)\n",
    "\n",
    "    X_train = np.array([[0,0,1],\n",
    "        [1,1,1],\n",
    "        [1,0,1],\n",
    "        [0,1,1]])\n",
    "    y_train = ([0,1,1,1])\n",
    "    learning_rate = 0.1\n",
    "\n",
    "    num_iterations = 10000\n",
    "    for i in range(num_iterations):\n",
    "        index = np.random.randint(len(X_train))\n",
    "        inputs = X_train[index]\n",
    "        target_output = y_train[index]\n",
    "        neuron.train(inputs, target_output, learning_rate)\n",
    "\n",
    "    test_data = np.array([[0,0,1],[1,1,1],[1,0,1],[0,1,1]])\n",
    "    for inputs in test_data:\n",
    "        output = neuron.activate(inputs)\n",
    "        print(\"Input :\", inputs, \"Output: \",output)"
   ]
  },
  {
   "cell_type": "markdown",
   "id": "f2304fbb-f4cf-41cb-8e53-662ca17d06b0",
   "metadata": {},
   "source": [
    "# Memory Based Algorithm"
   ]
  },
  {
   "cell_type": "code",
   "execution_count": 15,
   "id": "4862eb7a-413f-497d-a8fc-1b90bdfa83ce",
   "metadata": {},
   "outputs": [],
   "source": [
    "import numpy as np\n",
    "from collections import Counter"
   ]
  },
  {
   "cell_type": "code",
   "execution_count": 41,
   "id": "ddca7856-dfaf-40cc-a46b-44b8ea4ee867",
   "metadata": {},
   "outputs": [],
   "source": [
    "class Neuron:\n",
    "    def __init__(self, k):\n",
    "        self.k = k\n",
    "        self.X_train = None\n",
    "        self.y_train = None\n",
    "    def train(self, X_train, y_train):\n",
    "        self.X_train =X_train\n",
    "        self.y_train=y_train\n",
    "    def predict(self, X_test):\n",
    "        predictions = [self._predict(x) for x in X_test]\n",
    "        return np.array(predictions)\n",
    "    def _predict(self, x):\n",
    "        distances = [self.distance(x,x_train) for x_train in self.X_train]\n",
    "        k_indices = np.argsort(distances)[:self.k]\n",
    "        k_labels = [self.y_train[i] for i in k_indices]\n",
    "        most_common = Counter(k_labels).most_common(1)\n",
    "        return most_common[0][0]\n",
    "    def distance(self, x1, x2):\n",
    "        return np.sqrt(np.sum((x1-x2)**2))"
   ]
  },
  {
   "cell_type": "code",
   "execution_count": 45,
   "id": "dd41e823-14c8-466b-827a-d2b163805754",
   "metadata": {},
   "outputs": [
    {
     "name": "stdout",
     "output_type": "stream",
     "text": [
      "Predictions:  [1 0]\n"
     ]
    }
   ],
   "source": [
    "if __name__ == \"__main__\": \n",
    "    k = 3 \n",
    "    neuron = Neuron(k) \n",
    "    X_train = np.array([[1, 2], [2, 3], [3, 4], [4, 5]]) \n",
    "    y_train = np.array([0, 0, 1, 1]) \n",
    "    X_test = np.array([[5, 6], [0, 1]]) \n",
    "    neuron.train(X_train, y_train) \n",
    "    predictions = neuron.predict(X_test) \n",
    "    print(\"Predictions: \", predictions)"
   ]
  },
  {
   "cell_type": "code",
   "execution_count": null,
   "id": "ce38895e-63db-486d-a9e3-6ffbfbb1329a",
   "metadata": {},
   "outputs": [],
   "source": []
  }
 ],
 "metadata": {
  "kernelspec": {
   "display_name": "Python 3 (ipykernel)",
   "language": "python",
   "name": "python3"
  },
  "language_info": {
   "codemirror_mode": {
    "name": "ipython",
    "version": 3
   },
   "file_extension": ".py",
   "mimetype": "text/x-python",
   "name": "python",
   "nbconvert_exporter": "python",
   "pygments_lexer": "ipython3",
   "version": "3.12.4"
  }
 },
 "nbformat": 4,
 "nbformat_minor": 5
}
